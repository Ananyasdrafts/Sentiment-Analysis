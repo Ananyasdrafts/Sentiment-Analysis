{
 "cells": [
  {
   "cell_type": "code",
   "execution_count": 23,
   "metadata": {},
   "outputs": [],
   "source": [
    "import os\n",
    "import pandas as pd\n",
    "import numpy as np\n",
    "from scipy.stats import randint\n",
    "import seaborn as sns \n",
    "import matplotlib.pyplot as plt\n",
    "import seaborn as sns\n",
    "from io import StringIO\n",
    "from sklearn.feature_extraction.text import TfidfVectorizer\n",
    "from sklearn.feature_selection import chi2\n",
    "from IPython.display import display\n",
    "from sklearn.model_selection import train_test_split\n",
    "from sklearn.feature_extraction.text import TfidfTransformer\n",
    "from sklearn.svm import LinearSVC\n",
    "from sklearn import metrics"
   ]
  },
  {
   "cell_type": "code",
   "execution_count": 24,
   "metadata": {},
   "outputs": [
    {
     "name": "stderr",
     "output_type": "stream",
     "text": [
      "C:\\Users\\anany\\AppData\\Local\\Temp\\ipykernel_23592\\3023111814.py:1: DtypeWarning: Columns (16) have mixed types. Specify dtype option on import or set low_memory=False.\n",
      "  df = pd.read_csv(r\"C:\\Users\\anany\\Downloads\\complaints.csv\\complaints.csv\")\n"
     ]
    },
    {
     "data": {
      "text/html": [
       "<div>\n",
       "<style scoped>\n",
       "    .dataframe tbody tr th:only-of-type {\n",
       "        vertical-align: middle;\n",
       "    }\n",
       "\n",
       "    .dataframe tbody tr th {\n",
       "        vertical-align: top;\n",
       "    }\n",
       "\n",
       "    .dataframe thead th {\n",
       "        text-align: right;\n",
       "    }\n",
       "</style>\n",
       "<table border=\"1\" class=\"dataframe\">\n",
       "  <thead>\n",
       "    <tr style=\"text-align: right;\">\n",
       "      <th></th>\n",
       "      <th>Date received</th>\n",
       "      <th>Product</th>\n",
       "      <th>Sub-product</th>\n",
       "      <th>Issue</th>\n",
       "      <th>Sub-issue</th>\n",
       "      <th>Consumer complaint narrative</th>\n",
       "      <th>Company public response</th>\n",
       "      <th>Company</th>\n",
       "      <th>State</th>\n",
       "      <th>ZIP code</th>\n",
       "      <th>Tags</th>\n",
       "      <th>Consumer consent provided?</th>\n",
       "      <th>Submitted via</th>\n",
       "      <th>Date sent to company</th>\n",
       "      <th>Company response to consumer</th>\n",
       "      <th>Timely response?</th>\n",
       "      <th>Consumer disputed?</th>\n",
       "      <th>Complaint ID</th>\n",
       "    </tr>\n",
       "  </thead>\n",
       "  <tbody>\n",
       "    <tr>\n",
       "      <th>0</th>\n",
       "      <td>2023-08-24</td>\n",
       "      <td>Credit reporting, credit repair services, or o...</td>\n",
       "      <td>Credit reporting</td>\n",
       "      <td>Problem with a credit reporting company's inve...</td>\n",
       "      <td>Was not notified of investigation status or re...</td>\n",
       "      <td>NaN</td>\n",
       "      <td>NaN</td>\n",
       "      <td>Experian Information Solutions Inc.</td>\n",
       "      <td>NJ</td>\n",
       "      <td>07024</td>\n",
       "      <td>NaN</td>\n",
       "      <td>Other</td>\n",
       "      <td>Web</td>\n",
       "      <td>2023-08-24</td>\n",
       "      <td>In progress</td>\n",
       "      <td>Yes</td>\n",
       "      <td>NaN</td>\n",
       "      <td>7452639</td>\n",
       "    </tr>\n",
       "    <tr>\n",
       "      <th>1</th>\n",
       "      <td>2023-08-25</td>\n",
       "      <td>Credit reporting or other personal consumer re...</td>\n",
       "      <td>Credit reporting</td>\n",
       "      <td>Improper use of your report</td>\n",
       "      <td>Reporting company used your report improperly</td>\n",
       "      <td>NaN</td>\n",
       "      <td>NaN</td>\n",
       "      <td>SANTANDER HOLDINGS USA, INC.</td>\n",
       "      <td>FL</td>\n",
       "      <td>33972</td>\n",
       "      <td>NaN</td>\n",
       "      <td>NaN</td>\n",
       "      <td>Web</td>\n",
       "      <td>2023-08-25</td>\n",
       "      <td>Closed with explanation</td>\n",
       "      <td>Yes</td>\n",
       "      <td>NaN</td>\n",
       "      <td>7512160</td>\n",
       "    </tr>\n",
       "    <tr>\n",
       "      <th>2</th>\n",
       "      <td>2023-07-13</td>\n",
       "      <td>Checking or savings account</td>\n",
       "      <td>Checking account</td>\n",
       "      <td>Problem caused by your funds being low</td>\n",
       "      <td>Overdrafts and overdraft fees</td>\n",
       "      <td>Citibank allowed debit card transactions to ov...</td>\n",
       "      <td>Company has responded to the consumer and the ...</td>\n",
       "      <td>CITIBANK, N.A.</td>\n",
       "      <td>TX</td>\n",
       "      <td>XXXXX</td>\n",
       "      <td>NaN</td>\n",
       "      <td>Consent provided</td>\n",
       "      <td>Web</td>\n",
       "      <td>2023-07-13</td>\n",
       "      <td>Closed with explanation</td>\n",
       "      <td>Yes</td>\n",
       "      <td>NaN</td>\n",
       "      <td>7244354</td>\n",
       "    </tr>\n",
       "    <tr>\n",
       "      <th>3</th>\n",
       "      <td>2023-08-25</td>\n",
       "      <td>Credit reporting or other personal consumer re...</td>\n",
       "      <td>Credit reporting</td>\n",
       "      <td>Improper use of your report</td>\n",
       "      <td>Reporting company used your report improperly</td>\n",
       "      <td>NaN</td>\n",
       "      <td>NaN</td>\n",
       "      <td>EQUIFAX, INC.</td>\n",
       "      <td>FL</td>\n",
       "      <td>33884</td>\n",
       "      <td>Servicemember</td>\n",
       "      <td>NaN</td>\n",
       "      <td>Web</td>\n",
       "      <td>2023-08-25</td>\n",
       "      <td>Closed with non-monetary relief</td>\n",
       "      <td>Yes</td>\n",
       "      <td>NaN</td>\n",
       "      <td>7453721</td>\n",
       "    </tr>\n",
       "    <tr>\n",
       "      <th>4</th>\n",
       "      <td>2023-09-13</td>\n",
       "      <td>Credit reporting or other personal consumer re...</td>\n",
       "      <td>Credit reporting</td>\n",
       "      <td>Problem with a company's investigation into an...</td>\n",
       "      <td>Their investigation did not fix an error on yo...</td>\n",
       "      <td>NaN</td>\n",
       "      <td>NaN</td>\n",
       "      <td>SANTANDER HOLDINGS USA, INC.</td>\n",
       "      <td>TX</td>\n",
       "      <td>77521</td>\n",
       "      <td>NaN</td>\n",
       "      <td>NaN</td>\n",
       "      <td>Web</td>\n",
       "      <td>2023-09-13</td>\n",
       "      <td>Closed with explanation</td>\n",
       "      <td>Yes</td>\n",
       "      <td>NaN</td>\n",
       "      <td>7542838</td>\n",
       "    </tr>\n",
       "  </tbody>\n",
       "</table>\n",
       "</div>"
      ],
      "text/plain": [
       "  Date received                                            Product  \\\n",
       "0    2023-08-24  Credit reporting, credit repair services, or o...   \n",
       "1    2023-08-25  Credit reporting or other personal consumer re...   \n",
       "2    2023-07-13                        Checking or savings account   \n",
       "3    2023-08-25  Credit reporting or other personal consumer re...   \n",
       "4    2023-09-13  Credit reporting or other personal consumer re...   \n",
       "\n",
       "        Sub-product                                              Issue  \\\n",
       "0  Credit reporting  Problem with a credit reporting company's inve...   \n",
       "1  Credit reporting                        Improper use of your report   \n",
       "2  Checking account             Problem caused by your funds being low   \n",
       "3  Credit reporting                        Improper use of your report   \n",
       "4  Credit reporting  Problem with a company's investigation into an...   \n",
       "\n",
       "                                           Sub-issue  \\\n",
       "0  Was not notified of investigation status or re...   \n",
       "1      Reporting company used your report improperly   \n",
       "2                      Overdrafts and overdraft fees   \n",
       "3      Reporting company used your report improperly   \n",
       "4  Their investigation did not fix an error on yo...   \n",
       "\n",
       "                        Consumer complaint narrative  \\\n",
       "0                                                NaN   \n",
       "1                                                NaN   \n",
       "2  Citibank allowed debit card transactions to ov...   \n",
       "3                                                NaN   \n",
       "4                                                NaN   \n",
       "\n",
       "                             Company public response  \\\n",
       "0                                                NaN   \n",
       "1                                                NaN   \n",
       "2  Company has responded to the consumer and the ...   \n",
       "3                                                NaN   \n",
       "4                                                NaN   \n",
       "\n",
       "                               Company State ZIP code           Tags  \\\n",
       "0  Experian Information Solutions Inc.    NJ    07024            NaN   \n",
       "1         SANTANDER HOLDINGS USA, INC.    FL    33972            NaN   \n",
       "2                       CITIBANK, N.A.    TX    XXXXX            NaN   \n",
       "3                        EQUIFAX, INC.    FL    33884  Servicemember   \n",
       "4         SANTANDER HOLDINGS USA, INC.    TX    77521            NaN   \n",
       "\n",
       "  Consumer consent provided? Submitted via Date sent to company  \\\n",
       "0                      Other           Web           2023-08-24   \n",
       "1                        NaN           Web           2023-08-25   \n",
       "2           Consent provided           Web           2023-07-13   \n",
       "3                        NaN           Web           2023-08-25   \n",
       "4                        NaN           Web           2023-09-13   \n",
       "\n",
       "      Company response to consumer Timely response? Consumer disputed?  \\\n",
       "0                      In progress              Yes                NaN   \n",
       "1          Closed with explanation              Yes                NaN   \n",
       "2          Closed with explanation              Yes                NaN   \n",
       "3  Closed with non-monetary relief              Yes                NaN   \n",
       "4          Closed with explanation              Yes                NaN   \n",
       "\n",
       "   Complaint ID  \n",
       "0       7452639  \n",
       "1       7512160  \n",
       "2       7244354  \n",
       "3       7453721  \n",
       "4       7542838  "
      ]
     },
     "execution_count": 24,
     "metadata": {},
     "output_type": "execute_result"
    }
   ],
   "source": [
    "df = pd.read_csv(r\"C:\\Users\\anany\\Downloads\\complaints.csv\\complaints.csv\")\n",
    "df.head()"
   ]
  },
  {
   "cell_type": "code",
   "execution_count": 25,
   "metadata": {},
   "outputs": [
    {
     "data": {
      "text/html": [
       "<div>\n",
       "<style scoped>\n",
       "    .dataframe tbody tr th:only-of-type {\n",
       "        vertical-align: middle;\n",
       "    }\n",
       "\n",
       "    .dataframe tbody tr th {\n",
       "        vertical-align: top;\n",
       "    }\n",
       "\n",
       "    .dataframe thead th {\n",
       "        text-align: right;\n",
       "    }\n",
       "</style>\n",
       "<table border=\"1\" class=\"dataframe\">\n",
       "  <thead>\n",
       "    <tr style=\"text-align: right;\">\n",
       "      <th></th>\n",
       "      <th>Product</th>\n",
       "      <th>Consumer_complaint</th>\n",
       "    </tr>\n",
       "  </thead>\n",
       "  <tbody>\n",
       "    <tr>\n",
       "      <th>2</th>\n",
       "      <td>Checking or savings account</td>\n",
       "      <td>Citibank allowed debit card transactions to ov...</td>\n",
       "    </tr>\n",
       "    <tr>\n",
       "      <th>6</th>\n",
       "      <td>Credit reporting, credit repair services, or o...</td>\n",
       "      <td>I submitted a letter to the XXXX Credit Bureau...</td>\n",
       "    </tr>\n",
       "    <tr>\n",
       "      <th>37</th>\n",
       "      <td>Credit reporting, credit repair services, or o...</td>\n",
       "      <td>In accordance with the Fair Credit Reporting a...</td>\n",
       "    </tr>\n",
       "    <tr>\n",
       "      <th>38</th>\n",
       "      <td>Credit reporting, credit repair services, or o...</td>\n",
       "      <td>On XX/XX/, 2023, XXXX XXXX admitted liability ...</td>\n",
       "    </tr>\n",
       "    <tr>\n",
       "      <th>40</th>\n",
       "      <td>Credit reporting, credit repair services, or o...</td>\n",
       "      <td>XX/XX/XXXX ] [ XXXX XXXX XXXX ] [ XXXX XXXX XX...</td>\n",
       "    </tr>\n",
       "  </tbody>\n",
       "</table>\n",
       "</div>"
      ],
      "text/plain": [
       "                                              Product  \\\n",
       "2                         Checking or savings account   \n",
       "6   Credit reporting, credit repair services, or o...   \n",
       "37  Credit reporting, credit repair services, or o...   \n",
       "38  Credit reporting, credit repair services, or o...   \n",
       "40  Credit reporting, credit repair services, or o...   \n",
       "\n",
       "                                   Consumer_complaint  \n",
       "2   Citibank allowed debit card transactions to ov...  \n",
       "6   I submitted a letter to the XXXX Credit Bureau...  \n",
       "37  In accordance with the Fair Credit Reporting a...  \n",
       "38  On XX/XX/, 2023, XXXX XXXX admitted liability ...  \n",
       "40  XX/XX/XXXX ] [ XXXX XXXX XXXX ] [ XXXX XXXX XX...  "
      ]
     },
     "execution_count": 25,
     "metadata": {},
     "output_type": "execute_result"
    }
   ],
   "source": [
    "df1 = df[['Product', 'Consumer complaint narrative']].copy()\n",
    "\n",
    "# Remove missing values (NaN)\n",
    "df1 = df1[pd.notnull(df1['Consumer complaint narrative'])]\n",
    "\n",
    "# Renaming second column for a simpler name\n",
    "df1.columns = ['Product', 'Consumer_complaint']\n",
    "\n",
    "df1.head()"
   ]
  },
  {
   "cell_type": "code",
   "execution_count": 26,
   "metadata": {},
   "outputs": [],
   "source": [
    "df1.replace({'Product': \n",
    "             {'Credit reporting, credit repair services, or other personal consumer reports': \n",
    "              'Credit reporting, repair, or other', \n",
    "              'Credit reporting': 'Credit reporting, repair, or other',\n",
    "             'Credit card': 'Credit card or prepaid card',\n",
    "             'Prepaid card': 'Credit card or prepaid card',\n",
    "             'Payday loan': 'Payday loan, title loan, or personal loan',\n",
    "             'Money transfer': 'Money transfer, virtual currency, or money service',\n",
    "             'Virtual currency': 'Money transfer, virtual currency, or money service'}}, \n",
    "            inplace= True)\n",
    "\n"
   ]
  },
  {
   "cell_type": "code",
   "execution_count": 27,
   "metadata": {},
   "outputs": [
    {
     "data": {
      "text/html": [
       "<div>\n",
       "<style scoped>\n",
       "    .dataframe tbody tr th:only-of-type {\n",
       "        vertical-align: middle;\n",
       "    }\n",
       "\n",
       "    .dataframe tbody tr th {\n",
       "        vertical-align: top;\n",
       "    }\n",
       "\n",
       "    .dataframe thead th {\n",
       "        text-align: right;\n",
       "    }\n",
       "</style>\n",
       "<table border=\"1\" class=\"dataframe\">\n",
       "  <thead>\n",
       "    <tr style=\"text-align: right;\">\n",
       "      <th></th>\n",
       "      <th>0</th>\n",
       "    </tr>\n",
       "  </thead>\n",
       "  <tbody>\n",
       "    <tr>\n",
       "      <th>0</th>\n",
       "      <td>Checking or savings account</td>\n",
       "    </tr>\n",
       "    <tr>\n",
       "      <th>1</th>\n",
       "      <td>Credit reporting, repair, or other</td>\n",
       "    </tr>\n",
       "    <tr>\n",
       "      <th>2</th>\n",
       "      <td>Credit card or prepaid card</td>\n",
       "    </tr>\n",
       "    <tr>\n",
       "      <th>3</th>\n",
       "      <td>Debt collection</td>\n",
       "    </tr>\n",
       "    <tr>\n",
       "      <th>4</th>\n",
       "      <td>Mortgage</td>\n",
       "    </tr>\n",
       "    <tr>\n",
       "      <th>5</th>\n",
       "      <td>Credit reporting or other personal consumer re...</td>\n",
       "    </tr>\n",
       "    <tr>\n",
       "      <th>6</th>\n",
       "      <td>Vehicle loan or lease</td>\n",
       "    </tr>\n",
       "    <tr>\n",
       "      <th>7</th>\n",
       "      <td>Student loan</td>\n",
       "    </tr>\n",
       "    <tr>\n",
       "      <th>8</th>\n",
       "      <td>Debt or credit management</td>\n",
       "    </tr>\n",
       "    <tr>\n",
       "      <th>9</th>\n",
       "      <td>Payday loan, title loan, or personal loan</td>\n",
       "    </tr>\n",
       "    <tr>\n",
       "      <th>10</th>\n",
       "      <td>Money transfer, virtual currency, or money ser...</td>\n",
       "    </tr>\n",
       "    <tr>\n",
       "      <th>11</th>\n",
       "      <td>Payday loan, title loan, personal loan, or adv...</td>\n",
       "    </tr>\n",
       "    <tr>\n",
       "      <th>12</th>\n",
       "      <td>Consumer Loan</td>\n",
       "    </tr>\n",
       "    <tr>\n",
       "      <th>13</th>\n",
       "      <td>Bank account or service</td>\n",
       "    </tr>\n",
       "    <tr>\n",
       "      <th>14</th>\n",
       "      <td>Money transfers</td>\n",
       "    </tr>\n",
       "    <tr>\n",
       "      <th>15</th>\n",
       "      <td>Other financial service</td>\n",
       "    </tr>\n",
       "  </tbody>\n",
       "</table>\n",
       "</div>"
      ],
      "text/plain": [
       "                                                    0\n",
       "0                         Checking or savings account\n",
       "1                  Credit reporting, repair, or other\n",
       "2                         Credit card or prepaid card\n",
       "3                                     Debt collection\n",
       "4                                            Mortgage\n",
       "5   Credit reporting or other personal consumer re...\n",
       "6                               Vehicle loan or lease\n",
       "7                                        Student loan\n",
       "8                           Debt or credit management\n",
       "9           Payday loan, title loan, or personal loan\n",
       "10  Money transfer, virtual currency, or money ser...\n",
       "11  Payday loan, title loan, personal loan, or adv...\n",
       "12                                      Consumer Loan\n",
       "13                            Bank account or service\n",
       "14                                    Money transfers\n",
       "15                            Other financial service"
      ]
     },
     "execution_count": 27,
     "metadata": {},
     "output_type": "execute_result"
    }
   ],
   "source": [
    "pd.DataFrame(df1.Product.unique())\n"
   ]
  },
  {
   "cell_type": "code",
   "execution_count": 28,
   "metadata": {},
   "outputs": [
    {
     "data": {
      "text/html": [
       "<div>\n",
       "<style scoped>\n",
       "    .dataframe tbody tr th:only-of-type {\n",
       "        vertical-align: middle;\n",
       "    }\n",
       "\n",
       "    .dataframe tbody tr th {\n",
       "        vertical-align: top;\n",
       "    }\n",
       "\n",
       "    .dataframe thead th {\n",
       "        text-align: right;\n",
       "    }\n",
       "</style>\n",
       "<table border=\"1\" class=\"dataframe\">\n",
       "  <thead>\n",
       "    <tr style=\"text-align: right;\">\n",
       "      <th></th>\n",
       "      <th>Product</th>\n",
       "      <th>Consumer_complaint</th>\n",
       "      <th>category_id</th>\n",
       "    </tr>\n",
       "  </thead>\n",
       "  <tbody>\n",
       "    <tr>\n",
       "      <th>2</th>\n",
       "      <td>Checking or savings account</td>\n",
       "      <td>Citibank allowed debit card transactions to ov...</td>\n",
       "      <td>0</td>\n",
       "    </tr>\n",
       "    <tr>\n",
       "      <th>6</th>\n",
       "      <td>Credit reporting, repair, or other</td>\n",
       "      <td>I submitted a letter to the XXXX Credit Bureau...</td>\n",
       "      <td>1</td>\n",
       "    </tr>\n",
       "    <tr>\n",
       "      <th>37</th>\n",
       "      <td>Credit reporting, repair, or other</td>\n",
       "      <td>In accordance with the Fair Credit Reporting a...</td>\n",
       "      <td>1</td>\n",
       "    </tr>\n",
       "    <tr>\n",
       "      <th>38</th>\n",
       "      <td>Credit reporting, repair, or other</td>\n",
       "      <td>On XX/XX/, 2023, XXXX XXXX admitted liability ...</td>\n",
       "      <td>1</td>\n",
       "    </tr>\n",
       "    <tr>\n",
       "      <th>40</th>\n",
       "      <td>Credit reporting, repair, or other</td>\n",
       "      <td>XX/XX/XXXX ] [ XXXX XXXX XXXX ] [ XXXX XXXX XX...</td>\n",
       "      <td>1</td>\n",
       "    </tr>\n",
       "  </tbody>\n",
       "</table>\n",
       "</div>"
      ],
      "text/plain": [
       "                               Product  \\\n",
       "2          Checking or savings account   \n",
       "6   Credit reporting, repair, or other   \n",
       "37  Credit reporting, repair, or other   \n",
       "38  Credit reporting, repair, or other   \n",
       "40  Credit reporting, repair, or other   \n",
       "\n",
       "                                   Consumer_complaint  category_id  \n",
       "2   Citibank allowed debit card transactions to ov...            0  \n",
       "6   I submitted a letter to the XXXX Credit Bureau...            1  \n",
       "37  In accordance with the Fair Credit Reporting a...            1  \n",
       "38  On XX/XX/, 2023, XXXX XXXX admitted liability ...            1  \n",
       "40  XX/XX/XXXX ] [ XXXX XXXX XXXX ] [ XXXX XXXX XX...            1  "
      ]
     },
     "execution_count": 28,
     "metadata": {},
     "output_type": "execute_result"
    }
   ],
   "source": [
    "df1['category_id'] = df1['Product'].factorize()[0]\n",
    "category_id_df = df1[['Product', 'category_id']].drop_duplicates()\n",
    "\n",
    "# for future use\n",
    "category_to_id = dict(category_id_df.values)\n",
    "id_to_category = dict(category_id_df[['category_id', 'Product']].values)\n",
    "\n",
    "df1.head()\n"
   ]
  },
  {
   "cell_type": "code",
   "execution_count": 29,
   "metadata": {},
   "outputs": [
    {
     "data": {
      "text/plain": [
       "Text(0.5, 0, 'Number of ocurrences')"
      ]
     },
     "execution_count": 29,
     "metadata": {},
     "output_type": "execute_result"
    },
    {
     "data": {
      "image/png": "[encoded data removed]",
      "text/plain": [
       "<Figure size 800x600 with 1 Axes>"
      ]
     },
     "metadata": {},
     "output_type": "display_data"
    }
   ],
   "source": [
    "fig = plt.figure(figsize=(8,6))\n",
    "df1.groupby('Product').Consumer_complaint.count().sort_values().plot.barh(\n",
    "    ylim=0, title= 'NUMBER OF COMPLAINTS PER PRODUCT CATEGORY')\n",
    "plt.xlabel('Number of ocurrences', fontsize = 10)"
   ]
  },
  {
   "cell_type": "code",
   "execution_count": 30,
   "metadata": {},
   "outputs": [],
   "source": [
    "df2 = df1.sample(10000, random_state=1).copy()\n",
    "# taking a data sample to decrease processing time"
   ]
  },
  {
   "cell_type": "code",
   "execution_count": 31,
   "metadata": {},
   "outputs": [],
   "source": [
    "tfidf = TfidfVectorizer(sublinear_tf=True, min_df=5,\n",
    "                        ngram_range=(1, 2), \n",
    "                        stop_words='english')\n",
    "\n",
    "# transforming each complaint into a vector\n",
    "features = tfidf.fit_transform(df2.Consumer_complaint).toarray()\n",
    "labels = df2.category_id"
   ]
  },
  {
   "cell_type": "code",
   "execution_count": 32,
   "metadata": {},
   "outputs": [
    {
     "name": "stdout",
     "output_type": "stream",
     "text": [
      "--> Bank account or service:\n",
      "  * Most Correlated Unigrams: branch, citigold, overdraft\n",
      "  * Most Correlated Bigrams: personal banker, xxxx overdraft, overdraft fee\n",
      "--> Checking or savings account:\n",
      "  * Most Correlated Unigrams: deposit, funds, checking\n",
      "  * Most Correlated Bigrams: debit card, savings account, checking account\n",
      "--> Consumer Loan:\n",
      "  * Most Correlated Unigrams: repossessed, car, toyota\n",
      "  * Most Correlated Bigrams: corporation xxxx, purchased vehicle, repossessed car\n",
      "--> Credit card or prepaid card:\n",
      "  * Most Correlated Unigrams: merchant, citi, card\n",
      "  * Most Correlated Bigrams: card company, american express, credit card\n",
      "--> Credit reporting or other personal consumer reports:\n",
      "  * Most Correlated Unigrams: turned, mis, carefully\n",
      "  * Most Correlated Bigrams: xxxx turned, turned credit, later 30\n",
      "--> Credit reporting, repair, or other:\n",
      "  * Most Correlated Unigrams: 1681, section, reporting\n",
      "  * Most Correlated Bigrams: reporting agency, 15 1681, 1681 section\n",
      "--> Debt collection:\n",
      "  * Most Correlated Unigrams: collect, collection, debt\n",
      "  * Most Correlated Bigrams: collect debt, debt collection, collection agency\n",
      "--> Debt or credit management:\n",
      "  * Most Correlated Unigrams: disregard, disregarded, disputed\n",
      "  * Most Correlated Bigrams: disputed credit, disputed item, zip code\n",
      "--> Money transfer, virtual currency, or money service:\n",
      "  * Most Correlated Unigrams: wire, paypal, coinbase\n",
      "  * Most Correlated Bigrams: wire transfer, cash app, paypal account\n",
      "--> Money transfers:\n",
      "  * Most Correlated Unigrams: receiver, western, nephew\n",
      "  * Most Correlated Bigrams: 30 business, using paypal, western union\n",
      "--> Mortgage:\n",
      "  * Most Correlated Unigrams: escrow, modification, mortgage\n",
      "  * Most Correlated Bigrams: mortgage payment, mortgage company, loan modification\n",
      "--> Other financial service:\n",
      "  * Most Correlated Unigrams: stayed, floor, finalize\n",
      "  * Most Correlated Bigrams: asking personal, information website, asked manager\n",
      "--> Payday loan, title loan, or personal loan:\n",
      "  * Most Correlated Unigrams: acima, operational, speedy\n",
      "  * Most Correlated Bigrams: title loan, speedy cash, took loan\n",
      "--> Payday loan, title loan, personal loan, or advance loan:\n",
      "  * Most Correlated Unigrams: disregard, disregarded, disputed\n",
      "  * Most Correlated Bigrams: disputed credit, disputed item, zip code\n",
      "--> Student loan:\n",
      "  * Most Correlated Unigrams: student, loans, navient\n",
      "  * Most Correlated Bigrams: loan forgiveness, student loan, student loans\n",
      "--> Vehicle loan or lease:\n",
      "  * Most Correlated Unigrams: repossessed, vehicle, car\n",
      "  * Most Correlated Bigrams: motor acceptance, nissan motor, gm financial\n"
     ]
    }
   ],
   "source": [
    "# Finding the three most correlated terms with each of the product categories\n",
    "n = 3\n",
    "for Product, category_id in sorted(category_to_id.items()):\n",
    "  features_chi2 = chi2(features, labels == category_id)\n",
    "  indices = np.argsort(features_chi2[0])\n",
    "  feature_names = np.array(tfidf.get_feature_names_out())[indices]\n",
    "  unigrams = [v for v in feature_names if len(v.split(' ')) == 1]\n",
    "  bigrams = [v for v in feature_names if len(v.split(' ')) == 2]\n",
    "  print(\"--> %s:\" %(Product))\n",
    "  print(\"  * Most Correlated Unigrams: %s\" %(', '.join(unigrams[-n:])))\n",
    "  print(\"  * Most Correlated Bigrams: %s\" %(', '.join(bigrams[-n:])))"
   ]
  },
  {
   "cell_type": "code",
   "execution_count": 33,
   "metadata": {},
   "outputs": [],
   "source": [
    "X = df2['Consumer_complaint']\n",
    "y = df2['Product']\n",
    "X_train, X_test, y_train, y_test = train_test_split(X, y, test_size=0.25, random_state = 0)"
   ]
  },
  {
   "cell_type": "markdown",
   "metadata": {},
   "source": [
    "********************************\n",
    "CLASSIFYING USING SVM\n",
    "********************************"
   ]
  },
  {
   "cell_type": "code",
   "execution_count": 34,
   "metadata": {},
   "outputs": [
    {
     "name": "stderr",
     "output_type": "stream",
     "text": [
      "c:\\Users\\anany\\AppData\\Local\\Programs\\Python\\Python311\\Lib\\site-packages\\sklearn\\svm\\_classes.py:32: FutureWarning: The default value of `dual` will change from `True` to `'auto'` in 1.5. Set the value of `dual` explicitly to suppress the warning.\n",
      "  warnings.warn(\n"
     ]
    }
   ],
   "source": [
    "X_train, X_test, y_train, y_test,indices_train,indices_test = train_test_split(features, labels, df2.index, test_size=0.25, random_state=1)\n",
    "model = LinearSVC()\n",
    "model.fit(X_train, y_train)\n",
    "y_pred = model.predict(X_test)"
   ]
  },
  {
   "cell_type": "code",
   "execution_count": 35,
   "metadata": {},
   "outputs": [
    {
     "name": "stdout",
     "output_type": "stream",
     "text": [
      "              precision    recall  f1-score   support\n",
      "\n",
      "           0       0.70      0.72      0.71       126\n",
      "           1       0.88      0.93      0.91      1391\n",
      "           2       0.70      0.77      0.73       185\n",
      "           3       0.72      0.74      0.73       347\n",
      "           4       0.85      0.91      0.88       189\n",
      "           6       0.73      0.31      0.44        51\n",
      "           7       0.91      0.69      0.78        70\n",
      "           9       0.25      0.08      0.12        26\n",
      "          10       0.70      0.56      0.62        62\n",
      "          12       0.00      0.00      0.00        23\n",
      "          13       0.67      0.07      0.12        29\n",
      "          14       0.00      0.00      0.00         1\n",
      "\n",
      "    accuracy                           0.82      2500\n",
      "   macro avg       0.59      0.48      0.50      2500\n",
      "weighted avg       0.81      0.82      0.81      2500\n",
      "\n"
     ]
    },
    {
     "name": "stderr",
     "output_type": "stream",
     "text": [
      "c:\\Users\\anany\\AppData\\Local\\Programs\\Python\\Python311\\Lib\\site-packages\\sklearn\\metrics\\_classification.py:1469: UndefinedMetricWarning: Precision and F-score are ill-defined and being set to 0.0 in labels with no predicted samples. Use `zero_division` parameter to control this behavior.\n",
      "  _warn_prf(average, modifier, msg_start, len(result))\n",
      "c:\\Users\\anany\\AppData\\Local\\Programs\\Python\\Python311\\Lib\\site-packages\\sklearn\\metrics\\_classification.py:1469: UndefinedMetricWarning: Precision and F-score are ill-defined and being set to 0.0 in labels with no predicted samples. Use `zero_division` parameter to control this behavior.\n",
      "  _warn_prf(average, modifier, msg_start, len(result))\n",
      "c:\\Users\\anany\\AppData\\Local\\Programs\\Python\\Python311\\Lib\\site-packages\\sklearn\\metrics\\_classification.py:1469: UndefinedMetricWarning: Precision and F-score are ill-defined and being set to 0.0 in labels with no predicted samples. Use `zero_division` parameter to control this behavior.\n",
      "  _warn_prf(average, modifier, msg_start, len(result))\n"
     ]
    }
   ],
   "source": [
    "rep = metrics.classification_report(y_test, y_pred)\n",
    "print(rep)"
   ]
  },
  {
   "cell_type": "markdown",
   "metadata": {},
   "source": [
    "************************************************************************************************************\n",
    "RUNNING MODEL ON UNSEEN DATA\n",
    "************************************************************************************************************"
   ]
  },
  {
   "cell_type": "code",
   "execution_count": 37,
   "metadata": {},
   "outputs": [
    {
     "name": "stderr",
     "output_type": "stream",
     "text": [
      "c:\\Users\\anany\\AppData\\Local\\Programs\\Python\\Python311\\Lib\\site-packages\\sklearn\\svm\\_classes.py:32: FutureWarning: The default value of `dual` will change from `True` to `'auto'` in 1.5. Set the value of `dual` explicitly to suppress the warning.\n",
      "  warnings.warn(\n"
     ]
    }
   ],
   "source": [
    "X_train, X_test, y_train, y_test = train_test_split(X, y, \n",
    "                                                    test_size=0.25,\n",
    "                                                    random_state = 0)\n",
    "tfidf = TfidfVectorizer(sublinear_tf=True, min_df=5,\n",
    "                        ngram_range=(1, 2), \n",
    "                        stop_words='english')\n",
    "fitted_vectorizer = tfidf.fit(X_train)\n",
    "tfidf_vectorizer_vectors = fitted_vectorizer.transform(X_train)\n",
    "model = LinearSVC().fit(tfidf_vectorizer_vectors, y_train)"
   ]
  },
  {
   "cell_type": "code",
   "execution_count": 38,
   "metadata": {},
   "outputs": [
    {
     "name": "stdout",
     "output_type": "stream",
     "text": [
      "['Debt collection']\n"
     ]
    }
   ],
   "source": [
    "complaint = \"\"\"I have received over 27 emails from X who is a representative from Midland Funding LLC. \n",
    "On XX/XX/XXXX I received approximately 6 emails. On XX/XX/XXXX I received approximately 9 emails.  \n",
    "All emails came from the same individual, X. It is becoming a nonstop issue of harassment.\"\"\"\n",
    "print(model.predict(fitted_vectorizer.transform([complaint])))"
   ]
  },
  {
   "cell_type": "code",
   "execution_count": 39,
   "metadata": {},
   "outputs": [
    {
     "name": "stdout",
     "output_type": "stream",
     "text": [
      "['Student loan']\n"
     ]
    }
   ],
   "source": [
    "complaint2 = \"I wanted to check for the interest rate for taking out loan for my university education but was never given a straight answer.\"\n",
    "print(model.predict(fitted_vectorizer.transform([complaint2])))"
   ]
  },
  {
   "cell_type": "code",
   "execution_count": 40,
   "metadata": {},
   "outputs": [
    {
     "name": "stdout",
     "output_type": "stream",
     "text": [
      "['Checking or savings account']\n"
     ]
    }
   ],
   "source": [
    "complaint3 = \"My debit card got declined today even though there are funds in my account.\"\n",
    "print(model.predict(fitted_vectorizer.transform([complaint3])))"
   ]
  },
  {
   "cell_type": "code",
   "execution_count": 41,
   "metadata": {},
   "outputs": [
    {
     "name": "stdout",
     "output_type": "stream",
     "text": [
      "['Credit card or prepaid card']\n"
     ]
    }
   ],
   "source": [
    "complaint4 = \"I am having trouble registering for a credit card on the online portal.\"\n",
    "print(model.predict(fitted_vectorizer.transform([complaint4])))"
   ]
  }
 ],
 "metadata": {
  "kernelspec": {
   "display_name": "Python 3",
   "language": "python",
   "name": "python3"
  },
  "language_info": {
   "codemirror_mode": {
    "name": "ipython",
    "version": 3
   },
   "file_extension": ".py",
   "mimetype": "text/x-python",
   "name": "python",
   "nbconvert_exporter": "python",
   "pygments_lexer": "ipython3",
   "version": "3.11.5"
  },
  "orig_nbformat": 4
 },
 "nbformat": 4,
 "nbformat_minor": 2
}
